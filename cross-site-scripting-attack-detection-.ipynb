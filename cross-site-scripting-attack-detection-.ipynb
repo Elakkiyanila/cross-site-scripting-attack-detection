{
 "cells": [
  {
   "cell_type": "code",
   "execution_count": 3,
   "id": "ab33cfc8-846e-487b-b308-5450481aca18",
   "metadata": {},
   "outputs": [],
   "source": [
    "import numpy as np\n",
    "import pandas as pd\n",
    "import glob\n",
    "import time\n",
    "import pandas as pd\n",
    "import os\n",
    "import matplotlib.pyplot as plt\n",
    "import keras\n",
    "import cv2\n",
    "import warnings\n",
    "# Suppress TensorFlow deprecation warnings\n",
    "warnings.filterwarnings(\"ignore\", category=FutureWarning, module=\"tensorflow\")\n"
   ]
  },
  {
   "cell_type": "code",
   "execution_count": 4,
   "id": "3b130f8f-2013-4505-b9bf-e727b26c1f99",
   "metadata": {},
   "outputs": [],
   "source": [
    "df = pd.read_csv('XSS_dataset.csv')"
   ]
  },
  {
   "cell_type": "code",
   "execution_count": 5,
   "id": "a6b6bbac-2de1-4c96-8deb-3116211e89d8",
   "metadata": {},
   "outputs": [
    {
     "data": {
      "text/html": [
       "<div>\n",
       "<style scoped>\n",
       "    .dataframe tbody tr th:only-of-type {\n",
       "        vertical-align: middle;\n",
       "    }\n",
       "\n",
       "    .dataframe tbody tr th {\n",
       "        vertical-align: top;\n",
       "    }\n",
       "\n",
       "    .dataframe thead th {\n",
       "        text-align: right;\n",
       "    }\n",
       "</style>\n",
       "<table border=\"1\" class=\"dataframe\">\n",
       "  <thead>\n",
       "    <tr style=\"text-align: right;\">\n",
       "      <th></th>\n",
       "      <th>Unnamed: 0</th>\n",
       "      <th>Sentence</th>\n",
       "      <th>Label</th>\n",
       "    </tr>\n",
       "  </thead>\n",
       "  <tbody>\n",
       "    <tr>\n",
       "      <th>0</th>\n",
       "      <td>0</td>\n",
       "      <td>&lt;li&gt;&lt;a href=\"/wiki/File:Socrates.png\" class=\"i...</td>\n",
       "      <td>0</td>\n",
       "    </tr>\n",
       "    <tr>\n",
       "      <th>1</th>\n",
       "      <td>1</td>\n",
       "      <td>&lt;tt onmouseover=\"alert(1)\"&gt;test&lt;/tt&gt;</td>\n",
       "      <td>1</td>\n",
       "    </tr>\n",
       "    <tr>\n",
       "      <th>2</th>\n",
       "      <td>2</td>\n",
       "      <td>\\t &lt;/span&gt; &lt;span class=\"reference-text\"&gt;Steeri...</td>\n",
       "      <td>0</td>\n",
       "    </tr>\n",
       "    <tr>\n",
       "      <th>3</th>\n",
       "      <td>3</td>\n",
       "      <td>\\t &lt;/span&gt; &lt;span class=\"reference-text\"&gt;&lt;cite ...</td>\n",
       "      <td>0</td>\n",
       "    </tr>\n",
       "    <tr>\n",
       "      <th>4</th>\n",
       "      <td>4</td>\n",
       "      <td>\\t &lt;/span&gt;. &lt;a href=\"/wiki/Digital_object_iden...</td>\n",
       "      <td>0</td>\n",
       "    </tr>\n",
       "  </tbody>\n",
       "</table>\n",
       "</div>"
      ],
      "text/plain": [
       "   Unnamed: 0                                           Sentence  Label\n",
       "0           0  <li><a href=\"/wiki/File:Socrates.png\" class=\"i...      0\n",
       "1           1               <tt onmouseover=\"alert(1)\">test</tt>      1\n",
       "2           2  \\t </span> <span class=\"reference-text\">Steeri...      0\n",
       "3           3  \\t </span> <span class=\"reference-text\"><cite ...      0\n",
       "4           4  \\t </span>. <a href=\"/wiki/Digital_object_iden...      0"
      ]
     },
     "execution_count": 5,
     "metadata": {},
     "output_type": "execute_result"
    }
   ],
   "source": [
    "df.head()"
   ]
  },
  {
   "cell_type": "code",
   "execution_count": 6,
   "id": "d14249f3-5098-4602-8eb1-51d344b20368",
   "metadata": {},
   "outputs": [
    {
     "data": {
      "text/html": [
       "<div>\n",
       "<style scoped>\n",
       "    .dataframe tbody tr th:only-of-type {\n",
       "        vertical-align: middle;\n",
       "    }\n",
       "\n",
       "    .dataframe tbody tr th {\n",
       "        vertical-align: top;\n",
       "    }\n",
       "\n",
       "    .dataframe thead th {\n",
       "        text-align: right;\n",
       "    }\n",
       "</style>\n",
       "<table border=\"1\" class=\"dataframe\">\n",
       "  <thead>\n",
       "    <tr style=\"text-align: right;\">\n",
       "      <th></th>\n",
       "      <th>Sentence</th>\n",
       "      <th>Label</th>\n",
       "    </tr>\n",
       "  </thead>\n",
       "  <tbody>\n",
       "    <tr>\n",
       "      <th>0</th>\n",
       "      <td>&lt;li&gt;&lt;a href=\"/wiki/File:Socrates.png\" class=\"i...</td>\n",
       "      <td>0</td>\n",
       "    </tr>\n",
       "    <tr>\n",
       "      <th>1</th>\n",
       "      <td>&lt;tt onmouseover=\"alert(1)\"&gt;test&lt;/tt&gt;</td>\n",
       "      <td>1</td>\n",
       "    </tr>\n",
       "    <tr>\n",
       "      <th>2</th>\n",
       "      <td>\\t &lt;/span&gt; &lt;span class=\"reference-text\"&gt;Steeri...</td>\n",
       "      <td>0</td>\n",
       "    </tr>\n",
       "    <tr>\n",
       "      <th>3</th>\n",
       "      <td>\\t &lt;/span&gt; &lt;span class=\"reference-text\"&gt;&lt;cite ...</td>\n",
       "      <td>0</td>\n",
       "    </tr>\n",
       "    <tr>\n",
       "      <th>4</th>\n",
       "      <td>\\t &lt;/span&gt;. &lt;a href=\"/wiki/Digital_object_iden...</td>\n",
       "      <td>0</td>\n",
       "    </tr>\n",
       "  </tbody>\n",
       "</table>\n",
       "</div>"
      ],
      "text/plain": [
       "                                            Sentence  Label\n",
       "0  <li><a href=\"/wiki/File:Socrates.png\" class=\"i...      0\n",
       "1               <tt onmouseover=\"alert(1)\">test</tt>      1\n",
       "2  \\t </span> <span class=\"reference-text\">Steeri...      0\n",
       "3  \\t </span> <span class=\"reference-text\"><cite ...      0\n",
       "4  \\t </span>. <a href=\"/wiki/Digital_object_iden...      0"
      ]
     },
     "execution_count": 6,
     "metadata": {},
     "output_type": "execute_result"
    }
   ],
   "source": [
    "\n",
    "df=df[df.columns[-2:]]  # Only get sentence and labels\n",
    "df.head()\n"
   ]
  },
  {
   "cell_type": "code",
   "execution_count": 7,
   "id": "0409afce-0f15-4c6b-adcf-96ca515ead3f",
   "metadata": {},
   "outputs": [
    {
     "name": "stdout",
     "output_type": "stream",
     "text": [
      "13686\n"
     ]
    }
   ],
   "source": [
    "\n",
    "# Get Sentences data from data frame\n",
    "sentences=df['Sentence'].values\n",
    "sentences[1]\n",
    "\n",
    "print(len(sentences))\n",
    "\n",
    "# Convert to ASCII\n"
   ]
  },
  {
   "cell_type": "code",
   "execution_count": 8,
   "id": "55338d92-6e44-448a-996a-445110958c69",
   "metadata": {},
   "outputs": [],
   "source": [
    "def convert_to_ascii(sentence):\n",
    "    sentence_ascii=[]\n",
    "\n",
    "    for i in sentence:\n",
    "        \"\"\"Some characters have values very big e.d 8221 adn some are chinese letters\n",
    "        I am removing letters having values greater than 8222 and for rest greater\n",
    "        than 128 and smaller than 8222 assigning them values so they can easily be normalized\"\"\"\n",
    "        if(ord(i)<8222):      # ” has ASCII of 8221\n",
    "            if(ord(i)==8217): # ’  :  8217\n",
    "                sentence_ascii.append(134)\n",
    "            if(ord(i)==8221): # ”  :  8221\n",
    "                sentence_ascii.append(129)\n",
    "            if(ord(i)==8220): # “  :  8220\n",
    "                sentence_ascii.append(130)\n",
    "            if(ord(i)==8216): # ‘  :  8216\n",
    "                sentence_ascii.append(131)\n",
    "            if(ord(i)==8217): # ’  :  8217\n",
    "                sentence_ascii.append(132)\n",
    "            if(ord(i)==8211): # –  :  8211\n",
    "                sentence_ascii.append(133)\n",
    "\n",
    "            \"\"\"\n",
    "            If values less than 128 store them else discard them\n",
    "            \"\"\"\n",
    "            if (ord(i)<=128):\n",
    "                    sentence_ascii.append(ord(i))\n",
    "            else:\n",
    "                    pass\n",
    "\n",
    "    zer=np.zeros((10000))\n",
    "    for i in range(len(sentence_ascii)):\n",
    "        zer[i]=sentence_ascii[i]\n",
    "\n",
    "    zer.shape=(100, 100)\n",
    "\n",
    "    return zer\n"
   ]
  },
  {
   "cell_type": "code",
   "execution_count": 9,
   "id": "be747967-d8f6-4428-914d-223a989faaa0",
   "metadata": {},
   "outputs": [
    {
     "name": "stdout",
     "output_type": "stream",
     "text": [
      "Input data shape :  (13686, 100, 100)\n"
     ]
    }
   ],
   "source": [
    "\n",
    "# send each sentence to be converted to ASCII\n",
    "\n",
    "arr=np.zeros((len(sentences),100,100))\n",
    "\n",
    "for i in range(len(sentences)):\n",
    "    image=convert_to_ascii(sentences[i])\n",
    "    x=np.asarray(image,dtype='float')\n",
    "    image =  cv2.resize(x, dsize=(100,100), interpolation=cv2.INTER_CUBIC)\n",
    "    image/=128\n",
    "    arr[i]=image\n",
    "\n",
    "print(\"Input data shape : \", arr.shape)\n"
   ]
  },
  {
   "cell_type": "code",
   "execution_count": 10,
   "id": "37991f6e-ffb8-41ce-83c7-53818e25a6c2",
   "metadata": {},
   "outputs": [
    {
     "data": {
      "text/plain": [
       "(13686, 100, 100, 1)"
      ]
     },
     "execution_count": 10,
     "metadata": {},
     "output_type": "execute_result"
    }
   ],
   "source": [
    "\n",
    "# Reshape data for input to CNN\n",
    "data = arr.reshape(arr.shape[0], 100, 100, 1)\n",
    "\n",
    "data.shape\n"
   ]
  },
  {
   "cell_type": "code",
   "execution_count": 12,
   "id": "0a4a0a29-66d4-4e0a-ad9c-df7cfcb3a2f7",
   "metadata": {},
   "outputs": [
    {
     "name": "stdout",
     "output_type": "stream",
     "text": [
      "[0 1 0 ... 1 0 0]\n"
     ]
    }
   ],
   "source": [
    "\n",
    "y = df['Label'].values\n",
    "print(y)"
   ]
  },
  {
   "cell_type": "code",
   "execution_count": 13,
   "id": "c514e7c2-57fc-4dfa-87b5-a57448e188d4",
   "metadata": {},
   "outputs": [],
   "source": [
    "\n",
    "# Split into train/test data\n",
    "from sklearn.model_selection import train_test_split\n",
    "trainX, testX, trainY, testY = train_test_split(data, y, test_size=0.2, random_state=42)\n"
   ]
  },
  {
   "cell_type": "code",
   "execution_count": 14,
   "id": "1a6dffa3-2cc4-4685-a7bc-9e2b0f6a7b87",
   "metadata": {},
   "outputs": [
    {
     "name": "stdout",
     "output_type": "stream",
     "text": [
      "WARNING:tensorflow:From C:\\Users\\91994\\anaconda3\\lib\\site-packages\\keras\\src\\backend.py:873: The name tf.get_default_graph is deprecated. Please use tf.compat.v1.get_default_graph instead.\n",
      "\n",
      "WARNING:tensorflow:From C:\\Users\\91994\\anaconda3\\lib\\site-packages\\keras\\src\\layers\\pooling\\max_pooling2d.py:161: The name tf.nn.max_pool is deprecated. Please use tf.nn.max_pool2d instead.\n",
      "\n",
      "WARNING:tensorflow:From C:\\Users\\91994\\anaconda3\\lib\\site-packages\\keras\\src\\optimizers\\__init__.py:309: The name tf.train.Optimizer is deprecated. Please use tf.compat.v1.train.Optimizer instead.\n",
      "\n",
      "Model: \"sequential\"\n",
      "_________________________________________________________________\n",
      " Layer (type)                Output Shape              Param #   \n",
      "=================================================================\n",
      " conv2d (Conv2D)             (None, 98, 98, 64)        640       \n",
      "                                                                 \n",
      " max_pooling2d (MaxPooling2  (None, 49, 49, 64)        0         \n",
      " D)                                                              \n",
      "                                                                 \n",
      " conv2d_1 (Conv2D)           (None, 47, 47, 128)       73856     \n",
      "                                                                 \n",
      " max_pooling2d_1 (MaxPoolin  (None, 23, 23, 128)       0         \n",
      " g2D)                                                            \n",
      "                                                                 \n",
      " conv2d_2 (Conv2D)           (None, 21, 21, 256)       295168    \n",
      "                                                                 \n",
      " max_pooling2d_2 (MaxPoolin  (None, 10, 10, 256)       0         \n",
      " g2D)                                                            \n",
      "                                                                 \n",
      " flatten (Flatten)           (None, 25600)             0         \n",
      "                                                                 \n",
      " dense (Dense)               (None, 256)               6553856   \n",
      "                                                                 \n",
      " dense_1 (Dense)             (None, 128)               32896     \n",
      "                                                                 \n",
      " dense_2 (Dense)             (None, 64)                8256      \n",
      "                                                                 \n",
      " dense_3 (Dense)             (None, 1)                 65        \n",
      "                                                                 \n",
      "=================================================================\n",
      "Total params: 6964737 (26.57 MB)\n",
      "Trainable params: 6964737 (26.57 MB)\n",
      "Non-trainable params: 0 (0.00 Byte)\n",
      "_________________________________________________________________\n"
     ]
    }
   ],
   "source": [
    "\n",
    "# import libraries for Making Model\n",
    "import tensorflow as tf\n",
    "from keras.models import Sequential\n",
    "from keras.layers import Dense, Activation, Conv2D, MaxPooling2D, Flatten, Dropout, MaxPool2D, BatchNormalization\n",
    "\n",
    "# A basic CNN Model\n",
    "# Number of layers = 11\n",
    "# Number of Convolutional layer: 3\n",
    "\n",
    "model = tf.keras.models.Sequential([\n",
    "    tf.keras.layers.Conv2D(64, (3, 3), activation=tf.nn.relu, input_shape=(100, 100, 1)),\n",
    "    tf.keras.layers.MaxPooling2D(2, 2),\n",
    "    tf.keras.layers.Conv2D(128, (3, 3), activation='relu'),\n",
    "    tf.keras.layers.MaxPooling2D(2, 2),\n",
    "    tf.keras.layers.Conv2D(256, (3, 3), activation='relu'),\n",
    "    tf.keras.layers.MaxPooling2D(2, 2),\n",
    "    tf.keras.layers.Flatten(),\n",
    "    tf.keras.layers.Dense(256, activation='relu'),\n",
    "    tf.keras.layers.Dense(128, activation='relu'),\n",
    "    tf.keras.layers.Dense(64, activation='relu'),\n",
    "    tf.keras.layers.Dense(1, activation='sigmoid')\n",
    "])\n",
    "\n",
    "model.compile(loss='binary_crossentropy',\n",
    "              optimizer='adam',\n",
    "              metrics=['accuracy'])\n",
    "model.summary()\n",
    "\n"
   ]
  },
  {
   "cell_type": "code",
   "execution_count": 15,
   "id": "548e5de0-7332-4780-9fd9-86ba61380ee4",
   "metadata": {},
   "outputs": [
    {
     "name": "stdout",
     "output_type": "stream",
     "text": [
      "Epoch 1/10\n",
      "WARNING:tensorflow:From C:\\Users\\91994\\anaconda3\\lib\\site-packages\\keras\\src\\utils\\tf_utils.py:492: The name tf.ragged.RaggedTensorValue is deprecated. Please use tf.compat.v1.ragged.RaggedTensorValue instead.\n",
      "\n",
      "WARNING:tensorflow:From C:\\Users\\91994\\anaconda3\\lib\\site-packages\\keras\\src\\engine\\base_layer_utils.py:384: The name tf.executing_eagerly_outside_functions is deprecated. Please use tf.compat.v1.executing_eagerly_outside_functions instead.\n",
      "\n",
      "86/86 [==============================] - 137s 1s/step - loss: 0.4448 - accuracy: 0.7924 - val_loss: 0.3801 - val_accuracy: 0.8181\n",
      "Epoch 2/10\n",
      "86/86 [==============================] - 121s 1s/step - loss: 0.2339 - accuracy: 0.9024 - val_loss: 0.0854 - val_accuracy: 0.9744\n",
      "Epoch 3/10\n",
      "86/86 [==============================] - 126s 1s/step - loss: 0.0766 - accuracy: 0.9776 - val_loss: 0.0776 - val_accuracy: 0.9766\n",
      "Epoch 4/10\n",
      "86/86 [==============================] - 135s 2s/step - loss: 0.0577 - accuracy: 0.9839 - val_loss: 0.0530 - val_accuracy: 0.9847\n",
      "Epoch 5/10\n",
      "86/86 [==============================] - 132s 2s/step - loss: 0.0495 - accuracy: 0.9864 - val_loss: 0.0586 - val_accuracy: 0.9854\n",
      "Epoch 6/10\n",
      "86/86 [==============================] - 131s 2s/step - loss: 0.0426 - accuracy: 0.9880 - val_loss: 0.0460 - val_accuracy: 0.9858\n",
      "Epoch 7/10\n",
      "86/86 [==============================] - 130s 2s/step - loss: 0.0375 - accuracy: 0.9900 - val_loss: 0.0488 - val_accuracy: 0.9828\n",
      "Epoch 8/10\n",
      "86/86 [==============================] - 130s 2s/step - loss: 0.0407 - accuracy: 0.9885 - val_loss: 0.0433 - val_accuracy: 0.9887\n",
      "Epoch 9/10\n",
      "86/86 [==============================] - 130s 2s/step - loss: 0.0278 - accuracy: 0.9918 - val_loss: 0.0392 - val_accuracy: 0.9883\n",
      "Epoch 10/10\n",
      "86/86 [==============================] - 130s 2s/step - loss: 0.0219 - accuracy: 0.9931 - val_loss: 0.0367 - val_accuracy: 0.9898\n"
     ]
    }
   ],
   "source": [
    "# Stop when validation accuracy > 97\n",
    "\n",
    "class myCallback(tf.keras.callbacks.Callback):\n",
    "    def on_epoch_end(self, epoch, logs={}):\n",
    "        if(logs.get('val_accuracy') > 0.97):\n",
    "            print(\" \\n Reached 97% + validation accuracy\")\n",
    "            self.model.stop_training = True\n",
    "\n",
    "callbacks = myCallback()\n",
    "\n",
    "batch_size = 128\n",
    "num_epoch = 10\n",
    "#model training\n",
    "model_log = model.fit(trainX, trainY,\n",
    "                      batch_size=batch_size,\n",
    "                      epochs=num_epoch,\n",
    "                      verbose=1,\n",
    "                      validation_data=(testX, testY)\n",
    "#                      callbacks=[callbacks]\n",
    "                     )\n"
   ]
  },
  {
   "cell_type": "code",
   "execution_count": 16,
   "id": "cb84b2ae-51d1-48fb-8632-4d2c676b74ad",
   "metadata": {},
   "outputs": [
    {
     "name": "stdout",
     "output_type": "stream",
     "text": [
      "86/86 [==============================] - 8s 83ms/step\n"
     ]
    }
   ],
   "source": [
    "\n",
    "# predict for test set\n",
    "pred = model.predict(testX)\n"
   ]
  },
  {
   "cell_type": "code",
   "execution_count": 17,
   "id": "84cfd74e-92df-4cca-a53c-527824707d5b",
   "metadata": {},
   "outputs": [],
   "source": [
    "\n",
    "# Threshold values predicted\n",
    "\n",
    "for i in range(len(pred)):\n",
    "    if pred[i] > 0.5:\n",
    "        pred[i] = 1\n",
    "    elif pred[i] <= 0.5:\n",
    "        pred[i] = 0\n"
   ]
  },
  {
   "cell_type": "code",
   "execution_count": 18,
   "id": "23b6c76b-6635-4924-9226-05b615c0a28d",
   "metadata": {},
   "outputs": [
    {
     "name": "stdout",
     "output_type": "stream",
     "text": [
      "correct predicted ::  2710\n",
      "false prediction ::  28\n"
     ]
    }
   ],
   "source": [
    "\n",
    "# Count True predicted and wrong predicted\n",
    "\n",
    "true = 0\n",
    "false = 0\n",
    "\n",
    "for i in range(len(pred)):\n",
    "    if pred[i] == testY[i]:\n",
    "        true += 1\n",
    "    else:\n",
    "        false += 1\n",
    "\n",
    "print(\"correct predicted :: \", true)\n",
    "print(\"false prediction :: \", false)\n",
    "\n"
   ]
  },
  {
   "cell_type": "code",
   "execution_count": 19,
   "id": "90e28d11-10ab-4cdb-88b2-24e3c6d94311",
   "metadata": {},
   "outputs": [
    {
     "name": "stdout",
     "output_type": "stream",
     "text": [
      "Attack data in test set ::  1478\n",
      " Benign data in test set ::  1260\n"
     ]
    }
   ],
   "source": [
    "# Number of attack and benign data in test set\n",
    "\n",
    "attack = 0\n",
    "benign = 0\n",
    "for i in range(len(testY)):\n",
    "    if testY[i] == 1:\n",
    "        attack += 1\n",
    "    else:\n",
    "        benign += 1\n",
    "\n",
    "print(\"Attack data in test set :: \", attack)\n",
    "print(\" Benign data in test set :: \", benign)\n"
   ]
  },
  {
   "cell_type": "code",
   "execution_count": 20,
   "id": "b5d8890c-f91a-4b9a-9366-bf20eceada51",
   "metadata": {},
   "outputs": [],
   "source": [
    "\n",
    "\n",
    "\"\"\"### Confusion Matrix\"\"\"\n",
    "\n",
    "# Takes True positive, true negative, false positive and false negative as input\n",
    "# Returns Accuracy\n",
    "\n",
    "def accuracy_function(tp, tn, fp, fn):\n",
    "    accuracy = (tp + tn) / (tp + tn + fp + fn)\n",
    "    return accuracy\n",
    "\n",
    "# Takes True Positive and false positive\n",
    "# Returns Precision\n",
    "\n",
    "def precision_function(tp, fp):\n",
    "    precision = tp / (tp + fp)\n",
    "    return precision\n",
    "\n",
    "# Takes True Positive and false negative\n",
    "# Returns Recall\n",
    "\n",
    "def recall_function(tp, fn):\n",
    "    recall = tp / (tp + fn)\n",
    "    return recall\n",
    "\n",
    "# Takes true values and predicted\n"
   ]
  },
  {
   "cell_type": "code",
   "execution_count": 21,
   "id": "a700e409-38fd-4c4e-a869-38fcbd74f0d2",
   "metadata": {},
   "outputs": [
    {
     "name": "stdout",
     "output_type": "stream",
     "text": [
      " Accuracy : 0.9897735573411249 \n",
      " Precision : 0.9852744310575636 \n",
      " Recall : 0.9959404600811907\n"
     ]
    }
   ],
   "source": [
    "# Returns Accuracy, precision and recall\n",
    "\n",
    "def confusion_matrix(truth, predicted):\n",
    "    true_positive = 0\n",
    "    true_negative = 0\n",
    "    false_positive = 0\n",
    "    false_negative = 0\n",
    "\n",
    "    for true, pred in zip(truth, predicted):\n",
    "        if true == 1:\n",
    "            if pred == true:\n",
    "                true_positive += 1\n",
    "            elif pred != true:\n",
    "                false_negative += 1\n",
    "        elif true == 0:\n",
    "            if pred == true:\n",
    "                true_negative += 1\n",
    "            elif pred != true:\n",
    "                false_positive += 1\n",
    "\n",
    "    accuracy = accuracy_function(true_positive, true_negative, false_positive, false_negative)\n",
    "    precision = precision_function(true_positive, false_positive)\n",
    "    recall = recall_function(true_positive, false_negative)\n",
    "\n",
    "    return accuracy, precision, recall\n",
    "\n",
    "accuracy, precision, recall = confusion_matrix(testY, pred)\n",
    "\n",
    "print(\" Accuracy : {0} \\n Precision : {1} \\n Recall : {2}\".format(accuracy, precision, recall))\n"
   ]
  },
  {
   "cell_type": "code",
   "execution_count": 25,
   "id": "1d41c347-51fc-4f65-92a1-5567bdb941d5",
   "metadata": {},
   "outputs": [
    {
     "name": "stdout",
     "output_type": "stream",
     "text": [
      "1/1 [==============================] - 0s 218ms/step\n",
      "Prediction: XSS Attack\n"
     ]
    }
   ],
   "source": [
    "def preprocess_new_data(sentence):\n",
    "    image = convert_to_ascii(sentence)\n",
    "    x = np.asarray(image, dtype='float')\n",
    "    image = cv2.resize(x, dsize=(100, 100), interpolation=cv2.INTER_CUBIC)\n",
    "    image /= 128\n",
    "    return image.reshape(1, 100, 100, 1)\n",
    "\n",
    "# Example new data for prediction\n",
    "new_sentence = '<caption onpointerdown=alert(1)>XSS</caption>'\n",
    "new_data = preprocess_new_data(new_sentence)\n",
    "\n",
    "# Make predictions on new data\n",
    "new_predictions = model.predict(new_data)\n",
    "\n",
    "# Apply a threshold to convert probabilities to binary predictions\n",
    "binary_prediction = (new_predictions > 0.5).astype(int)\n",
    "\n",
    "# Display the result\n",
    "if binary_prediction[0][0] == 1:\n",
    "    print(\"Prediction: XSS Attack\")\n",
    "else:\n",
    "    print(\"Prediction: Benign\")\n"
   ]
  },
  {
   "cell_type": "code",
   "execution_count": null,
   "id": "0c1761a9-22af-4014-be76-878fc8d050ce",
   "metadata": {},
   "outputs": [],
   "source": []
  },
  {
   "cell_type": "code",
   "execution_count": null,
   "id": "7c5768a4-94b9-4663-898f-5ec421f211ab",
   "metadata": {},
   "outputs": [],
   "source": []
  }
 ],
 "metadata": {
  "kernelspec": {
   "display_name": "Python 3 (ipykernel)",
   "language": "python",
   "name": "python3"
  },
  "language_info": {
   "codemirror_mode": {
    "name": "ipython",
    "version": 3
   },
   "file_extension": ".py",
   "mimetype": "text/x-python",
   "name": "python",
   "nbconvert_exporter": "python",
   "pygments_lexer": "ipython3",
   "version": "3.10.9"
  }
 },
 "nbformat": 4,
 "nbformat_minor": 5
}
